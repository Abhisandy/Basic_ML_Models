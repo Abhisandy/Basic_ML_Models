{
  "nbformat": 4,
  "nbformat_minor": 0,
  "metadata": {
    "colab": {
      "provenance": []
    },
    "kernelspec": {
      "name": "python3",
      "display_name": "Python 3"
    },
    "language_info": {
      "name": "python"
    }
  },
  "cells": [
    {
      "cell_type": "code",
      "source": [
        "########. KMeans 1-D Clustering. #############"
      ],
      "metadata": {
        "id": "GWeGFDUHxcsq"
      },
      "execution_count": null,
      "outputs": []
    },
    {
      "cell_type": "code",
      "execution_count": null,
      "metadata": {
        "id": "GWNVOYI2yX4l"
      },
      "outputs": [],
      "source": [
        "import numpy as np\n",
        "from sklearn.cluster import KMeans\n",
        "import matplotlib.pyplot as plt"
      ]
    },
    {
      "cell_type": "code",
      "source": [
        "num = np.arange(1, 101)"
      ],
      "metadata": {
        "id": "Ex6K9gkFZkUc"
      },
      "execution_count": null,
      "outputs": []
    },
    {
      "cell_type": "code",
      "source": [
        "num"
      ],
      "metadata": {
        "colab": {
          "base_uri": "https://localhost:8080/"
        },
        "id": "rxVwcDogZ3yX",
        "outputId": "965c524c-ba24-4f43-8282-177b47fb1eaa"
      },
      "execution_count": null,
      "outputs": [
        {
          "output_type": "execute_result",
          "data": {
            "text/plain": [
              "array([  1,   2,   3,   4,   5,   6,   7,   8,   9,  10,  11,  12,  13,\n",
              "        14,  15,  16,  17,  18,  19,  20,  21,  22,  23,  24,  25,  26,\n",
              "        27,  28,  29,  30,  31,  32,  33,  34,  35,  36,  37,  38,  39,\n",
              "        40,  41,  42,  43,  44,  45,  46,  47,  48,  49,  50,  51,  52,\n",
              "        53,  54,  55,  56,  57,  58,  59,  60,  61,  62,  63,  64,  65,\n",
              "        66,  67,  68,  69,  70,  71,  72,  73,  74,  75,  76,  77,  78,\n",
              "        79,  80,  81,  82,  83,  84,  85,  86,  87,  88,  89,  90,  91,\n",
              "        92,  93,  94,  95,  96,  97,  98,  99, 100])"
            ]
          },
          "metadata": {},
          "execution_count": 6
        }
      ]
    },
    {
      "cell_type": "code",
      "source": [
        "array_1_to_100_reshaped = num.reshape(-1, 1)"
      ],
      "metadata": {
        "id": "nnkN8TmBaN9g"
      },
      "execution_count": null,
      "outputs": []
    },
    {
      "cell_type": "code",
      "source": [
        "num.shape"
      ],
      "metadata": {
        "colab": {
          "base_uri": "https://localhost:8080/"
        },
        "id": "a_7o4jWebUSh",
        "outputId": "b1ae43fe-7e3c-48e9-910b-a631037720bb"
      },
      "execution_count": null,
      "outputs": [
        {
          "output_type": "execute_result",
          "data": {
            "text/plain": [
              "(100,)"
            ]
          },
          "metadata": {},
          "execution_count": 11
        }
      ]
    },
    {
      "cell_type": "code",
      "source": [
        "array_1_to_100_reshaped.shape"
      ],
      "metadata": {
        "colab": {
          "base_uri": "https://localhost:8080/"
        },
        "id": "oT1jiioMbWBl",
        "outputId": "a3b98ed9-cc0d-4ed3-8565-93158fdda1e8"
      },
      "execution_count": null,
      "outputs": [
        {
          "output_type": "execute_result",
          "data": {
            "text/plain": [
              "(100, 1)"
            ]
          },
          "metadata": {},
          "execution_count": 12
        }
      ]
    },
    {
      "cell_type": "code",
      "source": [
        "kmeans = KMeans(n_clusters=5, random_state=0)\n",
        "kmeans.fit(array_1_to_100_reshaped)"
      ],
      "metadata": {
        "colab": {
          "base_uri": "https://localhost:8080/",
          "height": 130
        },
        "id": "zn7V9ZWsbrwG",
        "outputId": "24e50e67-cbde-4279-b40f-203bb18d19d8"
      },
      "execution_count": null,
      "outputs": [
        {
          "output_type": "stream",
          "name": "stderr",
          "text": [
            "/usr/local/lib/python3.10/dist-packages/sklearn/cluster/_kmeans.py:870: FutureWarning: The default value of `n_init` will change from 10 to 'auto' in 1.4. Set the value of `n_init` explicitly to suppress the warning\n",
            "  warnings.warn(\n"
          ]
        },
        {
          "output_type": "execute_result",
          "data": {
            "text/plain": [
              "KMeans(n_clusters=5, random_state=0)"
            ],
            "text/html": [
              "<style>#sk-container-id-1 {color: black;background-color: white;}#sk-container-id-1 pre{padding: 0;}#sk-container-id-1 div.sk-toggleable {background-color: white;}#sk-container-id-1 label.sk-toggleable__label {cursor: pointer;display: block;width: 100%;margin-bottom: 0;padding: 0.3em;box-sizing: border-box;text-align: center;}#sk-container-id-1 label.sk-toggleable__label-arrow:before {content: \"▸\";float: left;margin-right: 0.25em;color: #696969;}#sk-container-id-1 label.sk-toggleable__label-arrow:hover:before {color: black;}#sk-container-id-1 div.sk-estimator:hover label.sk-toggleable__label-arrow:before {color: black;}#sk-container-id-1 div.sk-toggleable__content {max-height: 0;max-width: 0;overflow: hidden;text-align: left;background-color: #f0f8ff;}#sk-container-id-1 div.sk-toggleable__content pre {margin: 0.2em;color: black;border-radius: 0.25em;background-color: #f0f8ff;}#sk-container-id-1 input.sk-toggleable__control:checked~div.sk-toggleable__content {max-height: 200px;max-width: 100%;overflow: auto;}#sk-container-id-1 input.sk-toggleable__control:checked~label.sk-toggleable__label-arrow:before {content: \"▾\";}#sk-container-id-1 div.sk-estimator input.sk-toggleable__control:checked~label.sk-toggleable__label {background-color: #d4ebff;}#sk-container-id-1 div.sk-label input.sk-toggleable__control:checked~label.sk-toggleable__label {background-color: #d4ebff;}#sk-container-id-1 input.sk-hidden--visually {border: 0;clip: rect(1px 1px 1px 1px);clip: rect(1px, 1px, 1px, 1px);height: 1px;margin: -1px;overflow: hidden;padding: 0;position: absolute;width: 1px;}#sk-container-id-1 div.sk-estimator {font-family: monospace;background-color: #f0f8ff;border: 1px dotted black;border-radius: 0.25em;box-sizing: border-box;margin-bottom: 0.5em;}#sk-container-id-1 div.sk-estimator:hover {background-color: #d4ebff;}#sk-container-id-1 div.sk-parallel-item::after {content: \"\";width: 100%;border-bottom: 1px solid gray;flex-grow: 1;}#sk-container-id-1 div.sk-label:hover label.sk-toggleable__label {background-color: #d4ebff;}#sk-container-id-1 div.sk-serial::before {content: \"\";position: absolute;border-left: 1px solid gray;box-sizing: border-box;top: 0;bottom: 0;left: 50%;z-index: 0;}#sk-container-id-1 div.sk-serial {display: flex;flex-direction: column;align-items: center;background-color: white;padding-right: 0.2em;padding-left: 0.2em;position: relative;}#sk-container-id-1 div.sk-item {position: relative;z-index: 1;}#sk-container-id-1 div.sk-parallel {display: flex;align-items: stretch;justify-content: center;background-color: white;position: relative;}#sk-container-id-1 div.sk-item::before, #sk-container-id-1 div.sk-parallel-item::before {content: \"\";position: absolute;border-left: 1px solid gray;box-sizing: border-box;top: 0;bottom: 0;left: 50%;z-index: -1;}#sk-container-id-1 div.sk-parallel-item {display: flex;flex-direction: column;z-index: 1;position: relative;background-color: white;}#sk-container-id-1 div.sk-parallel-item:first-child::after {align-self: flex-end;width: 50%;}#sk-container-id-1 div.sk-parallel-item:last-child::after {align-self: flex-start;width: 50%;}#sk-container-id-1 div.sk-parallel-item:only-child::after {width: 0;}#sk-container-id-1 div.sk-dashed-wrapped {border: 1px dashed gray;margin: 0 0.4em 0.5em 0.4em;box-sizing: border-box;padding-bottom: 0.4em;background-color: white;}#sk-container-id-1 div.sk-label label {font-family: monospace;font-weight: bold;display: inline-block;line-height: 1.2em;}#sk-container-id-1 div.sk-label-container {text-align: center;}#sk-container-id-1 div.sk-container {/* jupyter's `normalize.less` sets `[hidden] { display: none; }` but bootstrap.min.css set `[hidden] { display: none !important; }` so we also need the `!important` here to be able to override the default hidden behavior on the sphinx rendered scikit-learn.org. See: https://github.com/scikit-learn/scikit-learn/issues/21755 */display: inline-block !important;position: relative;}#sk-container-id-1 div.sk-text-repr-fallback {display: none;}</style><div id=\"sk-container-id-1\" class=\"sk-top-container\"><div class=\"sk-text-repr-fallback\"><pre>KMeans(n_clusters=5, random_state=0)</pre><b>In a Jupyter environment, please rerun this cell to show the HTML representation or trust the notebook. <br />On GitHub, the HTML representation is unable to render, please try loading this page with nbviewer.org.</b></div><div class=\"sk-container\" hidden><div class=\"sk-item\"><div class=\"sk-estimator sk-toggleable\"><input class=\"sk-toggleable__control sk-hidden--visually\" id=\"sk-estimator-id-1\" type=\"checkbox\" checked><label for=\"sk-estimator-id-1\" class=\"sk-toggleable__label sk-toggleable__label-arrow\">KMeans</label><div class=\"sk-toggleable__content\"><pre>KMeans(n_clusters=5, random_state=0)</pre></div></div></div></div></div>"
            ]
          },
          "metadata": {},
          "execution_count": 15
        }
      ]
    },
    {
      "cell_type": "code",
      "source": [
        "cluster_centers = kmeans.cluster_centers_\n",
        "labels = kmeans.labels_"
      ],
      "metadata": {
        "id": "GogFkuBxcN-1"
      },
      "execution_count": null,
      "outputs": []
    },
    {
      "cell_type": "code",
      "source": [
        "cluster_centers"
      ],
      "metadata": {
        "colab": {
          "base_uri": "https://localhost:8080/"
        },
        "id": "5Ili3sJVcZvg",
        "outputId": "e8c83638-5080-433d-bac4-d3d6ccca3314"
      },
      "execution_count": null,
      "outputs": [
        {
          "output_type": "execute_result",
          "data": {
            "text/plain": [
              "array([[71.5],\n",
              "       [51. ],\n",
              "       [30. ],\n",
              "       [91. ],\n",
              "       [10. ]])"
            ]
          },
          "metadata": {},
          "execution_count": 18
        }
      ]
    },
    {
      "cell_type": "code",
      "source": [
        "labels"
      ],
      "metadata": {
        "colab": {
          "base_uri": "https://localhost:8080/"
        },
        "id": "42ZwYrxGcbi_",
        "outputId": "c5272852-0c01-4555-c48f-6f10dfeec93d"
      },
      "execution_count": null,
      "outputs": [
        {
          "output_type": "execute_result",
          "data": {
            "text/plain": [
              "array([4, 4, 4, 4, 4, 4, 4, 4, 4, 4, 4, 4, 4, 4, 4, 4, 4, 4, 4, 2, 2, 2,\n",
              "       2, 2, 2, 2, 2, 2, 2, 2, 2, 2, 2, 2, 2, 2, 2, 2, 2, 2, 1, 1, 1, 1,\n",
              "       1, 1, 1, 1, 1, 1, 1, 1, 1, 1, 1, 1, 1, 1, 1, 1, 1, 0, 0, 0, 0, 0,\n",
              "       0, 0, 0, 0, 0, 0, 0, 0, 0, 0, 0, 0, 0, 0, 0, 3, 3, 3, 3, 3, 3, 3,\n",
              "       3, 3, 3, 3, 3, 3, 3, 3, 3, 3, 3, 3], dtype=int32)"
            ]
          },
          "metadata": {},
          "execution_count": 19
        }
      ]
    },
    {
      "cell_type": "code",
      "source": [
        "plt.scatter(num, np.zeros_like(num), c=labels, cmap='viridis')\n",
        "plt.scatter(cluster_centers, np.zeros_like(cluster_centers), c='red', marker='o', s=100)\n",
        "plt.title('K-means Clustering on Numbers 1 to 100')\n",
        "plt.xlabel('Number')\n",
        "plt.show()"
      ],
      "metadata": {
        "colab": {
          "base_uri": "https://localhost:8080/",
          "height": 472
        },
        "id": "cduj5H4LcgFv",
        "outputId": "88dbb365-effd-4866-bc36-323685ff4fde"
      },
      "execution_count": null,
      "outputs": [
        {
          "output_type": "display_data",
          "data": {
            "text/plain": [
              "<Figure size 640x480 with 1 Axes>"
            ],
            "image/png": "[encoded data removed]"
          },
          "metadata": {}
        }
      ]
    },
    {
      "cell_type": "code",
      "source": [
        "######.  KMeans 2D Clustering.   ############"
      ],
      "metadata": {
        "id": "xqp7kdopcs4t"
      },
      "execution_count": null,
      "outputs": []
    },
    {
      "cell_type": "code",
      "source": [
        "np.random.seed(0)\n",
        "X = np.vstack([\n",
        "    np.random.normal(loc=[2, 2], scale=0.5, size=(100, 2)),\n",
        "    np.random.normal(loc=[8, 8], scale=0.5, size=(100, 2)),\n",
        "    np.random.normal(loc=[5, 12], scale=0.5, size=(100, 2))\n",
        "])"
      ],
      "metadata": {
        "id": "4fj072QWeUGF"
      },
      "execution_count": null,
      "outputs": []
    },
    {
      "cell_type": "code",
      "source": [
        "X"
      ],
      "metadata": {
        "colab": {
          "base_uri": "https://localhost:8080/"
        },
        "id": "nlsI17mleZ6a",
        "outputId": "cff6e908-de9f-4c08-9594-79148920514f"
      },
      "execution_count": null,
      "outputs": [
        {
          "output_type": "execute_result",
          "data": {
            "text/plain": [
              "array([[ 2.88202617,  2.2000786 ],\n",
              "       [ 2.48936899,  3.1204466 ],\n",
              "       [ 2.933779  ,  1.51136106],\n",
              "       [ 2.47504421,  1.9243214 ],\n",
              "       [ 1.94839057,  2.20529925],\n",
              "       [ 2.07202179,  2.72713675],\n",
              "       [ 2.38051886,  2.06083751],\n",
              "       [ 2.22193162,  2.16683716],\n",
              "       [ 2.74703954,  1.89742087],\n",
              "       [ 2.15653385,  1.57295213],\n",
              "       [ 0.72350509,  2.3268093 ],\n",
              "       [ 2.4322181 ,  1.62891749],\n",
              "       [ 3.13487731,  1.27281716],\n",
              "       [ 2.02287926,  1.90640807],\n",
              "       [ 2.76638961,  2.73467938],\n",
              "       [ 2.07747371,  2.18908126],\n",
              "       [ 1.55610713,  1.00960177],\n",
              "       [ 1.82604393,  2.07817448],\n",
              "       [ 2.61514534,  2.60118992],\n",
              "       [ 1.80633659,  1.84884862],\n",
              "       [ 1.47572352,  1.28999103],\n",
              "       [ 1.1468649 ,  2.9753877 ],\n",
              "       [ 1.74517391,  1.78096285],\n",
              "       [ 1.37360232,  2.38874518],\n",
              "       [ 1.19305108,  1.89362986],\n",
              "       [ 1.55226672,  2.19345125],\n",
              "       [ 1.74459743,  1.40968391],\n",
              "       [ 1.98590889,  2.21416594],\n",
              "       [ 2.03325861,  2.15123595],\n",
              "       [ 1.68283895,  1.81862942],\n",
              "       [ 1.66376978,  1.82022342],\n",
              "       [ 1.59342686,  1.1368587 ],\n",
              "       [ 2.08871307,  1.79910953],\n",
              "       [ 1.18490083,  2.23139113],\n",
              "       [ 1.54635082,  2.0259727 ],\n",
              "       [ 2.36454528,  2.06449146],\n",
              "       [ 2.56970034,  1.38258709],\n",
              "       [ 2.20117082,  1.65759495],\n",
              "       [ 1.56460143,  1.71057517],\n",
              "       [ 1.84422373,  2.02808267],\n",
              "       [ 1.41742508,  2.45041324],\n",
              "       [ 2.23283122,  1.23187816],\n",
              "       [ 2.7441261 ,  2.94794459],\n",
              "       [ 2.58938979,  1.91003758],\n",
              "       [ 1.46462369,  2.52722586],\n",
              "       [ 1.79841153,  2.61122254],\n",
              "       [ 2.10413749,  2.48831952],\n",
              "       [ 2.1781832 ,  2.35328658],\n",
              "       [ 2.00525001,  2.89293525],\n",
              "       [ 2.06345605,  2.20099468],\n",
              "       [ 2.94157535,  1.32612047],\n",
              "       [ 1.3647575 ,  2.48469835],\n",
              "       [ 1.4134383 ,  2.97181059],\n",
              "       [ 1.79319051,  1.62627259],\n",
              "       [ 2.96147101,  2.7402574 ],\n",
              "       [ 2.93377948,  2.45302233],\n",
              "       [ 1.56938716,  2.95503248],\n",
              "       [ 1.86599831,  2.4012282 ],\n",
              "       [ 2.47362598,  1.92249495],\n",
              "       [ 2.30703969,  2.46110334],\n",
              "       [ 2.18821277,  1.4502996 ],\n",
              "       [ 2.14911909,  2.66319295],\n",
              "       [ 1.65271607,  1.92518273],\n",
              "       [ 1.78242322,  2.92463186],\n",
              "       [ 2.33614738,  2.20373092],\n",
              "       [ 1.61504196,  2.2696246 ],\n",
              "       [ 1.66283367,  2.01591528],\n",
              "       [ 1.68207696,  2.33821665],\n",
              "       [ 2.28829541,  1.89585062],\n",
              "       [ 2.19800336,  1.45346925],\n",
              "       [ 1.2543712 ,  2.21969585],\n",
              "       [ 2.08333675,  2.31751572],\n",
              "       [ 3.19157239,  2.47223974],\n",
              "       [ 1.54358889,  2.55850814],\n",
              "       [ 1.34204629,  1.7692077 ],\n",
              "       [ 1.9658792 ,  2.85667136],\n",
              "       [ 1.62762259,  1.58678073],\n",
              "       [ 1.95077374,  1.66826086],\n",
              "       [ 2.56331796,  1.46003425],\n",
              "       [ 1.42626567,  1.78108998],\n",
              "       [ 1.75098377,  2.96476603],\n",
              "       [ 2.4747104 ,  2.04377562],\n",
              "       [ 1.38728224,  2.42218149],\n",
              "       [ 1.49989233,  1.22761445],\n",
              "       [ 2.5940149 ,  2.15847131],\n",
              "       [ 2.46042941,  2.15936383],\n",
              "       [ 2.42841531,  1.6744872 ],\n",
              "       [ 1.48287858,  2.34079726],\n",
              "       [ 1.59829517,  1.65522511],\n",
              "       [ 1.77223375,  2.00873958],\n",
              "       [ 1.82300304,  1.31252435],\n",
              "       [ 1.6781908 ,  0.88829842],\n",
              "       [ 2.31261573,  1.19897117],\n",
              "       [ 1.44780833,  2.02608254],\n",
              "       [ 1.6302185 ,  2.7715073 ],\n",
              "       [ 1.35357155,  2.13352543],\n",
              "       [ 1.98035859,  1.41595325],\n",
              "       [ 2.26163833,  1.91422683],\n",
              "       [ 2.38589528,  2.41175208],\n",
              "       [ 3.08161797,  2.66826397],\n",
              "       [ 7.81540908,  7.88031041],\n",
              "       [ 8.5498298 ,  8.32763187],\n",
              "       [ 8.32006576,  7.19152198],\n",
              "       [ 7.98783694,  7.63098455],\n",
              "       [ 8.1399623 ,  7.95092481],\n",
              "       [ 8.45508945,  8.15860911],\n",
              "       [ 8.39316398,  7.76679045],\n",
              "       [ 7.52777687,  7.79497515],\n",
              "       [ 7.99148979,  8.18957587],\n",
              "       [ 9.12965448,  7.97887142],\n",
              "       [ 7.5220275 ,  7.82700911],\n",
              "       [ 7.76820201,  8.24074074],\n",
              "       [ 7.22960149,  8.031631  ],\n",
              "       [ 8.07825327,  8.11609052],\n",
              "       [ 7.70134197,  7.88103914],\n",
              "       [ 7.28796955,  7.75334006],\n",
              "       [ 7.72856926,  8.20802502],\n",
              "       [ 7.42190878,  8.39059905],\n",
              "       [ 8.74724227,  6.96500749],\n",
              "       [ 8.21312937,  8.33845402],\n",
              "       [ 7.68128149,  7.80136409],\n",
              "       [ 7.93355971,  7.85110456],\n",
              "       [ 7.84549352,  7.1619981 ],\n",
              "       [ 8.57616578,  8.5398093 ],\n",
              "       [ 7.59331787,  7.26678784],\n",
              "       [ 8.26053244,  7.71210602],\n",
              "       [ 8.07097658,  7.84033579],\n",
              "       [ 8.34576938,  8.34737457],\n",
              "       [ 7.63720131,  7.30831802],\n",
              "       [ 7.2085308 ,  8.30518969],\n",
              "       [ 7.40557037,  7.74659182],\n",
              "       [ 7.70184298,  7.97371635],\n",
              "       [ 7.0318601 ,  8.0943893 ],\n",
              "       [ 8.26194551,  8.04421104],\n",
              "       [ 7.84455691,  8.04870008],\n",
              "       [ 8.19952317,  6.61370362],\n",
              "       [ 8.97795615,  8.19504666],\n",
              "       [ 7.67379571,  7.80452331],\n",
              "       [ 8.24687089,  7.94194803],\n",
              "       [ 6.98465777,  9.03224643],\n",
              "       [ 7.94472967,  8.51008636],\n",
              "       [ 7.65397508,  8.76818853],\n",
              "       [ 8.14317184,  8.30442192],\n",
              "       [ 7.47737332,  8.60557264],\n",
              "       [ 8.34490908,  8.65092311],\n",
              "       [ 7.68595622,  7.75948644],\n",
              "       [ 9.15195835,  7.46999209],\n",
              "       [ 7.93202515,  8.56844568],\n",
              "       [ 8.04886248,  8.29147684],\n",
              "       [ 7.80027549,  8.18502794],\n",
              "       [ 7.34673657,  8.82906534],\n",
              "       [ 7.94091798,  7.6599109 ],\n",
              "       [ 8.33319154,  7.76964011],\n",
              "       [ 7.33287076,  7.32664125],\n",
              "       [ 8.34688658,  7.92021328],\n",
              "       [ 7.93314922,  8.5388719 ],\n",
              "       [ 7.4365871 ,  7.63466112],\n",
              "       [ 7.8075601 ,  8.04717579],\n",
              "       [ 7.97891427,  7.8565564 ],\n",
              "       [ 7.9691868 ,  7.94634736],\n",
              "       [ 7.64019781,  7.59350351],\n",
              "       [ 8.13725818,  7.55454246],\n",
              "       [ 7.42132237,  7.84385387],\n",
              "       [ 7.92116649,  9.12836175],\n",
              "       [ 7.64764986,  8.47163036],\n",
              "       [ 8.37359417,  7.40552752],\n",
              "       [ 8.38662649,  7.40805968],\n",
              "       [ 6.67041388,  8.30315976],\n",
              "       [ 7.12205471,  8.22546723],\n",
              "       [ 7.65799455,  8.8297754 ],\n",
              "       [ 8.5342547 ,  7.7733071 ],\n",
              "       [ 7.65608119,  7.3929613 ],\n",
              "       [ 7.77953868,  7.85982225],\n",
              "       [ 7.81765323,  8.07835193],\n",
              "       [ 8.28926075,  8.17482723],\n",
              "       [ 7.61792804,  7.28110426],\n",
              "       [ 8.68226592,  7.65527541],\n",
              "       [ 7.6738532 ,  7.73940534],\n",
              "       [ 7.07846522,  7.761013  ],\n",
              "       [ 7.76017209,  8.31017915],\n",
              "       [ 8.34922857,  8.00188544],\n",
              "       [ 8.46592419,  8.16998249],\n",
              "       [ 7.99215894,  8.08046408],\n",
              "       [ 7.90467325,  7.80257524],\n",
              "       [ 7.86613323,  7.43599433],\n",
              "       [ 8.14022085,  7.50343819],\n",
              "       [ 8.42081563,  7.87527071],\n",
              "       [ 8.02474749,  8.24691839],\n",
              "       [ 8.32165723,  7.2146883 ],\n",
              "       [ 7.89654816,  8.44008946],\n",
              "       [ 7.15094709,  8.19364024],\n",
              "       [ 6.87221789,  7.48874658],\n",
              "       [ 8.01931528,  7.17164245],\n",
              "       [ 7.50724463,  7.2640825 ],\n",
              "       [ 8.82406747,  8.08211388],\n",
              "       [ 8.28364514,  7.88866245],\n",
              "       [ 7.82328413,  7.19176291],\n",
              "       [ 7.85408132,  7.61925389],\n",
              "       [ 8.42896196,  8.57055093],\n",
              "       [ 8.73328936,  8.42627597],\n",
              "       [ 4.70067303, 11.44205151],\n",
              "       [ 5.38333159, 12.17814641],\n",
              "       [ 4.11573077, 12.1777409 ],\n",
              "       [ 5.40725991, 12.02946279],\n",
              "       [ 4.90747316, 11.59617576],\n",
              "       [ 4.27673265, 12.40014897],\n",
              "       [ 4.84544278, 11.88326667],\n",
              "       [ 5.86636059, 12.34225055],\n",
              "       [ 5.1854125 , 12.0710309 ],\n",
              "       [ 5.75999743, 12.85979465],\n",
              "       [ 5.46475256, 12.2911123 ],\n",
              "       [ 3.95269846, 12.06186096],\n",
              "       [ 4.93494652, 12.04697661],\n",
              "       [ 5.47152304, 10.63016142],\n",
              "       [ 4.71534397, 12.13495218],\n",
              "       [ 4.76657723, 11.29154694],\n",
              "       [ 5.43448174, 12.13843595],\n",
              "       [ 4.51444771, 12.1574086 ],\n",
              "       [ 5.41079286, 12.00264632],\n",
              "       [ 5.4002824 , 12.03913009],\n",
              "       [ 4.80238551, 11.42028974],\n",
              "       [ 4.95703462, 12.09714647],\n",
              "       [ 5.43791638, 11.94244627],\n",
              "       [ 5.2287078 , 11.51769399],\n",
              "       [ 4.60868542, 11.94480535],\n",
              "       [ 4.47268577, 12.41012392],\n",
              "       [ 5.23156516, 12.13954788],\n",
              "       [ 5.16945206, 13.01052178],\n",
              "       [ 4.76556791, 10.89927936],\n",
              "       [ 5.0996501 , 11.97469823],\n",
              "       [ 4.74124048, 11.51058507],\n",
              "       [ 4.78040524, 12.09066921],\n",
              "       [ 4.74859165, 13.20622684],\n",
              "       [ 4.51974781, 11.60344132],\n",
              "       [ 3.85568998, 12.12574221],\n",
              "       [ 3.99179669, 11.73027268],\n",
              "       [ 4.86216473, 11.64513602],\n",
              "       [ 5.86943634, 12.4971972 ],\n",
              "       [ 5.65956844, 11.55879059],\n",
              "       [ 5.56429703, 12.24800047],\n",
              "       [ 5.38570297, 12.51471941],\n",
              "       [ 4.54561838, 11.78784119],\n",
              "       [ 5.43129801, 10.67219045],\n",
              "       [ 5.75666404, 12.27656603],\n",
              "       [ 4.97714802, 12.11025383],\n",
              "       [ 4.48503236, 11.82502832],\n",
              "       [ 5.55014217, 12.64901099],\n",
              "       [ 6.34811203, 11.96303767],\n",
              "       [ 4.67072352, 11.74288302],\n",
              "       [ 4.49097906, 11.96107262],\n",
              "       [ 5.19136622, 11.98287886],\n",
              "       [ 5.54817342, 11.8828921 ],\n",
              "       [ 4.82627467, 11.70936576],\n",
              "       [ 4.18368274, 11.21611614],\n",
              "       [ 4.41042103, 12.65071404],\n",
              "       [ 5.44763014, 12.68748203],\n",
              "       [ 4.33389417, 11.01568766],\n",
              "       [ 4.66997184, 12.08790948],\n",
              "       [ 5.24934514, 12.52398608],\n",
              "       [ 5.14213984, 12.87133439],\n",
              "       [ 4.88869716, 11.54346039],\n",
              "       [ 4.15939089, 11.55551432],\n",
              "       [ 5.12105898, 11.55563987],\n",
              "       [ 5.46837123, 12.70616385],\n",
              "       [ 3.81520655, 12.43202615],\n",
              "       [ 3.88019797, 12.20074953],\n",
              "       [ 5.61243528, 12.03242805],\n",
              "       [ 4.36015541, 11.7072844 ],\n",
              "       [ 4.86917728, 11.90887761],\n",
              "       [ 4.89855158, 11.94505861],\n",
              "       [ 5.10674002, 11.39571317],\n",
              "       [ 4.87899009, 12.75913059],\n",
              "       [ 4.80767729, 11.77808195],\n",
              "       [ 5.53909865, 10.72040767],\n",
              "       [ 5.5906893 , 11.68404812],\n",
              "       [ 5.08196429, 12.04816068],\n",
              "       [ 5.47123406, 11.86620263],\n",
              "       [ 4.66098711, 12.6489229 ],\n",
              "       [ 3.81791309, 12.01016709],\n",
              "       [ 4.32603729, 11.61921331],\n",
              "       [ 6.00562834, 11.97770229],\n",
              "       [ 5.09753485, 11.10921857],\n",
              "       [ 4.63547767, 12.0982787 ],\n",
              "       [ 5.17737885, 12.30844328],\n",
              "       [ 5.00431395, 12.2635021 ],\n",
              "       [ 5.22689096, 11.08512979],\n",
              "       [ 5.01850286, 12.3839512 ],\n",
              "       [ 5.29493991, 11.8180706 ],\n",
              "       [ 4.59718675, 11.44084404],\n",
              "       [ 4.93447299, 12.56653994],\n",
              "       [ 4.02409795, 11.67005414],\n",
              "       [ 4.43009877, 12.39247876],\n",
              "       [ 4.72284519, 11.76468117],\n",
              "       [ 4.89152522, 12.22269663],\n",
              "       [ 4.8038055 , 10.47692847],\n",
              "       [ 5.27165595, 12.21952148],\n",
              "       [ 4.89022949, 11.45798169],\n",
              "       [ 5.17589006, 12.18961777],\n",
              "       [ 4.76498356, 11.89163426],\n",
              "       [ 4.53492175, 11.91070545]])"
            ]
          },
          "metadata": {},
          "execution_count": 25
        }
      ]
    },
    {
      "cell_type": "code",
      "source": [
        "kmeans2d = KMeans(n_clusters = 3, random_state = 0)\n",
        "kmeans2d.fit(X)"
      ],
      "metadata": {
        "colab": {
          "base_uri": "https://localhost:8080/",
          "height": 130
        },
        "id": "aBtpS4qlea2z",
        "outputId": "fd3d097d-5345-4d23-d091-54007f838ebd"
      },
      "execution_count": null,
      "outputs": [
        {
          "output_type": "stream",
          "name": "stderr",
          "text": [
            "/usr/local/lib/python3.10/dist-packages/sklearn/cluster/_kmeans.py:870: FutureWarning: The default value of `n_init` will change from 10 to 'auto' in 1.4. Set the value of `n_init` explicitly to suppress the warning\n",
            "  warnings.warn(\n"
          ]
        },
        {
          "output_type": "execute_result",
          "data": {
            "text/plain": [
              "KMeans(n_clusters=3, random_state=0)"
            ],
            "text/html": [
              "<style>#sk-container-id-2 {color: black;background-color: white;}#sk-container-id-2 pre{padding: 0;}#sk-container-id-2 div.sk-toggleable {background-color: white;}#sk-container-id-2 label.sk-toggleable__label {cursor: pointer;display: block;width: 100%;margin-bottom: 0;padding: 0.3em;box-sizing: border-box;text-align: center;}#sk-container-id-2 label.sk-toggleable__label-arrow:before {content: \"▸\";float: left;margin-right: 0.25em;color: #696969;}#sk-container-id-2 label.sk-toggleable__label-arrow:hover:before {color: black;}#sk-container-id-2 div.sk-estimator:hover label.sk-toggleable__label-arrow:before {color: black;}#sk-container-id-2 div.sk-toggleable__content {max-height: 0;max-width: 0;overflow: hidden;text-align: left;background-color: #f0f8ff;}#sk-container-id-2 div.sk-toggleable__content pre {margin: 0.2em;color: black;border-radius: 0.25em;background-color: #f0f8ff;}#sk-container-id-2 input.sk-toggleable__control:checked~div.sk-toggleable__content {max-height: 200px;max-width: 100%;overflow: auto;}#sk-container-id-2 input.sk-toggleable__control:checked~label.sk-toggleable__label-arrow:before {content: \"▾\";}#sk-container-id-2 div.sk-estimator input.sk-toggleable__control:checked~label.sk-toggleable__label {background-color: #d4ebff;}#sk-container-id-2 div.sk-label input.sk-toggleable__control:checked~label.sk-toggleable__label {background-color: #d4ebff;}#sk-container-id-2 input.sk-hidden--visually {border: 0;clip: rect(1px 1px 1px 1px);clip: rect(1px, 1px, 1px, 1px);height: 1px;margin: -1px;overflow: hidden;padding: 0;position: absolute;width: 1px;}#sk-container-id-2 div.sk-estimator {font-family: monospace;background-color: #f0f8ff;border: 1px dotted black;border-radius: 0.25em;box-sizing: border-box;margin-bottom: 0.5em;}#sk-container-id-2 div.sk-estimator:hover {background-color: #d4ebff;}#sk-container-id-2 div.sk-parallel-item::after {content: \"\";width: 100%;border-bottom: 1px solid gray;flex-grow: 1;}#sk-container-id-2 div.sk-label:hover label.sk-toggleable__label {background-color: #d4ebff;}#sk-container-id-2 div.sk-serial::before {content: \"\";position: absolute;border-left: 1px solid gray;box-sizing: border-box;top: 0;bottom: 0;left: 50%;z-index: 0;}#sk-container-id-2 div.sk-serial {display: flex;flex-direction: column;align-items: center;background-color: white;padding-right: 0.2em;padding-left: 0.2em;position: relative;}#sk-container-id-2 div.sk-item {position: relative;z-index: 1;}#sk-container-id-2 div.sk-parallel {display: flex;align-items: stretch;justify-content: center;background-color: white;position: relative;}#sk-container-id-2 div.sk-item::before, #sk-container-id-2 div.sk-parallel-item::before {content: \"\";position: absolute;border-left: 1px solid gray;box-sizing: border-box;top: 0;bottom: 0;left: 50%;z-index: -1;}#sk-container-id-2 div.sk-parallel-item {display: flex;flex-direction: column;z-index: 1;position: relative;background-color: white;}#sk-container-id-2 div.sk-parallel-item:first-child::after {align-self: flex-end;width: 50%;}#sk-container-id-2 div.sk-parallel-item:last-child::after {align-self: flex-start;width: 50%;}#sk-container-id-2 div.sk-parallel-item:only-child::after {width: 0;}#sk-container-id-2 div.sk-dashed-wrapped {border: 1px dashed gray;margin: 0 0.4em 0.5em 0.4em;box-sizing: border-box;padding-bottom: 0.4em;background-color: white;}#sk-container-id-2 div.sk-label label {font-family: monospace;font-weight: bold;display: inline-block;line-height: 1.2em;}#sk-container-id-2 div.sk-label-container {text-align: center;}#sk-container-id-2 div.sk-container {/* jupyter's `normalize.less` sets `[hidden] { display: none; }` but bootstrap.min.css set `[hidden] { display: none !important; }` so we also need the `!important` here to be able to override the default hidden behavior on the sphinx rendered scikit-learn.org. See: https://github.com/scikit-learn/scikit-learn/issues/21755 */display: inline-block !important;position: relative;}#sk-container-id-2 div.sk-text-repr-fallback {display: none;}</style><div id=\"sk-container-id-2\" class=\"sk-top-container\"><div class=\"sk-text-repr-fallback\"><pre>KMeans(n_clusters=3, random_state=0)</pre><b>In a Jupyter environment, please rerun this cell to show the HTML representation or trust the notebook. <br />On GitHub, the HTML representation is unable to render, please try loading this page with nbviewer.org.</b></div><div class=\"sk-container\" hidden><div class=\"sk-item\"><div class=\"sk-estimator sk-toggleable\"><input class=\"sk-toggleable__control sk-hidden--visually\" id=\"sk-estimator-id-2\" type=\"checkbox\" checked><label for=\"sk-estimator-id-2\" class=\"sk-toggleable__label sk-toggleable__label-arrow\">KMeans</label><div class=\"sk-toggleable__content\"><pre>KMeans(n_clusters=3, random_state=0)</pre></div></div></div></div></div>"
            ]
          },
          "metadata": {},
          "execution_count": 26
        }
      ]
    },
    {
      "cell_type": "code",
      "source": [
        "clsuter_center = kmeans2d.cluster_centers_\n",
        "labels = kmeans.labels_"
      ],
      "metadata": {
        "id": "ef9I_S6DezSO"
      },
      "execution_count": null,
      "outputs": []
    },
    {
      "cell_type": "code",
      "source": [
        "plt.scatter(X[:,0], X[:,1], cmap = 'viridis', marker = 'o')\n",
        "plt.scatter(clsuter_center[:,0], clsuter_center[:,1], marker = 'x', c = 'red')\n",
        "plt.xlabel = 'Feature 1'\n",
        "plt.ylable = 'Feature 2'\n",
        "plt.show()"
      ],
      "metadata": {
        "colab": {
          "base_uri": "https://localhost:8080/",
          "height": 466
        },
        "id": "LKZYFaGmfIB5",
        "outputId": "b10be396-63a2-431e-bf49-796ef4d06004"
      },
      "execution_count": null,
      "outputs": [
        {
          "output_type": "stream",
          "name": "stderr",
          "text": [
            "<ipython-input-28-87330d5b37a2>:1: UserWarning: No data for colormapping provided via 'c'. Parameters 'cmap' will be ignored\n",
            "  plt.scatter(X[:,0], X[:,1], cmap = 'viridis', marker = 'o')\n"
          ]
        },
        {
          "output_type": "display_data",
          "data": {
            "text/plain": [
              "<Figure size 640x480 with 1 Axes>"
            ],
            "image/png": "[encoded data removed]"
          },
          "metadata": {}
        }
      ]
    },
    {
      "cell_type": "code",
      "source": [],
      "metadata": {
        "id": "MAW-plUfgVBe"
      },
      "execution_count": null,
      "outputs": []
    }
  ]
}